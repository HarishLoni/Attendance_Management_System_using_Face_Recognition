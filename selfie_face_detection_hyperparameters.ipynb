{
 "cells": [
  {
   "cell_type": "markdown",
   "metadata": {},
   "source": [
    "# Project: Taking Selfies Using Face Detection"
   ]
  },
  {
   "cell_type": "code",
   "execution_count": 2,
   "metadata": {},
   "outputs": [
    {
     "name": "stdout",
     "output_type": "stream",
     "text": [
      "Note: you may need to restart the kernel to use updated packages.\n"
     ]
    },
    {
     "name": "stderr",
     "output_type": "stream",
     "text": [
      "ERROR: You must give at least one requirement to install (see \"pip help install\")\n"
     ]
    }
   ],
   "source": [
    "%pip install "
   ]
  },
  {
   "cell_type": "markdown",
   "metadata": {},
   "source": [
    "### Step 1: Importing Libraries\n",
    "- **cv2**: This is the OpenCV library used for image processing.\n",
    "- **os**: This module helps to interact with the operating system to create directories."
   ]
  },
  {
   "cell_type": "code",
   "execution_count": 4,
   "metadata": {},
   "outputs": [],
   "source": [
    "# Importing the necessary libraries\n",
    "import cv2\n",
    "import os"
   ]
  },
  {
   "cell_type": "markdown",
   "metadata": {},
   "source": [
    "### Step 2: Creating a Directory\n",
    "- We'll create a folder named **'Selfie_Images'** if it doesn't already exist.\n",
    "- This folder will store the images captured.\n",
    "- **os.mkdir('directory_name')** creates a directory.\n",
    "- You can replace **'Selfie_Images'** with any folder name you like, such as **'Captured_Faces'** or **'My_Selfies'**."
   ]
  },
  {
   "cell_type": "code",
   "execution_count": 5,
   "metadata": {},
   "outputs": [],
   "source": [
    "# Create a directory to save the images if it doesn't already exist\n",
    "if not os.path.exists(\"Selfie_Images\"):\n",
    "    os.mkdir(\"Selfie_Images\")"
   ]
  },
  {
   "cell_type": "markdown",
   "metadata": {},
   "source": [
    "### Step 3: Accessing the Webcam\n",
    "- **cv2.VideoCapture(0)** opens the default camera on your computer.\n",
    "- **0** means the default camera, and it can be replaced with **1** for an external camera.\n",
    "- You can also try using **2** or **3** if you have multiple cameras connected."
   ]
  },
  {
   "cell_type": "code",
   "execution_count": 6,
   "metadata": {},
   "outputs": [],
   "source": [
    "# Initialize the webcam (0 means the default camera)\n",
    "camera = cv2.VideoCapture(0)"
   ]
  },
  {
   "cell_type": "markdown",
   "metadata": {},
   "source": [
    "### Step 4: Loading Face Detection Model\n",
    "- OpenCV provides pre-trained models for face detection called Haar Cascades.\n",
    "- We are using **'haarcascade_frontalface_default.xml'**, which is commonly used to detect faces.\n",
    "- Other options include **'haarcascade_eye.xml'** (to detect eyes) or **'haarcascade_smile.xml'** (to detect smiles)."
   ]
  },
  {
   "cell_type": "code",
   "execution_count": 7,
   "metadata": {},
   "outputs": [],
   "source": [
    "# Load the face detection model\n",
    "face_cascade = cv2.CascadeClassifier(cv2.data.haarcascades + 'haarcascade_frontalface_default.xml')"
   ]
  },
  {
   "cell_type": "markdown",
   "metadata": {},
   "source": [
    "### Step 5: Capturing Selfies\n",
    "- We'll capture 5 selfies in total, and each face detected will be saved in a separate folder.\n",
    "- **camera.read()** captures a frame from the webcam.\n",
    "- **cv2.cvtColor(frame, cv2.COLOR_BGR2GRAY)** converts the frame to grayscale, which is required by the face detection model.\n",
    "- **face_cascade.detectMultiScale()** detects faces in the image.\n",
    "  - **scaleFactor=1.1**: Specifies how much the image size is reduced at each image scale. Replaceable values: **1.05, 1.3, 1.5**.\n",
    "  - **minNeighbors=5**: Specifies how many neighbors each candidate rectangle should have to retain it. Replaceable values: **3, 4, 6**.\n",
    "  - **minSize=(30, 30)**: Minimum possible object size. Replaceable values: **(20, 20), (50, 50), (60, 60)**."
   ]
  },
  {
   "cell_type": "code",
   "execution_count": 8,
   "metadata": {},
   "outputs": [],
   "source": [
    "# Counter to keep track of the number of selfies taken\n",
    "selfie_count = 0\n",
    "\n",
    "while selfie_count < 5:\n",
    "    # Capture a frame from the webcam\n",
    "    ret, frame = camera.read()\n",
    "    if not ret:\n",
    "        break\n",
    "    \n",
    "    # Convert the frame to grayscale (required by the face detection model)\n",
    "    gray_frame = cv2.cvtColor(frame, cv2.COLOR_BGR2GRAY)\n",
    "    \n",
    "    # Detect faces in the frame\n",
    "    faces = face_cascade.detectMultiScale(gray_frame, scaleFactor=1.1, minNeighbors=5, minSize=(30, 30))\n",
    "    \n",
    "    # Draw rectangles around the detected faces and save each face\n",
    "    for i, (x, y, w, h) in enumerate(faces):\n",
    "        # Crop the face from the frame\n",
    "        face = frame[y:y+h, x:x+w]\n",
    "        # Create a separate folder for each face if multiple faces are detected\n",
    "        face_folder = f\"Selfie_Images/Face_{i+1}\"\n",
    "        if not os.path.exists(face_folder):\n",
    "            os.mkdir(face_folder)\n",
    "        # Save the cropped face image\n",
    "        face_image_path = os.path.join(face_folder, f\"selfie_{selfie_count+1}.jpg\")\n",
    "        cv2.imwrite(face_image_path, face)\n",
    "    \n",
    "    # Show the frame with rectangles around faces\n",
    "    cv2.imshow(\"Webcam - Press 'q' to Quit\", frame)\n",
    "    \n",
    "    # Wait for a key press or a delay to take the next selfie\n",
    "    key = cv2.waitKey(1000)  # Wait 1 second before taking next selfie\n",
    "    selfie_count += 1\n",
    "\n",
    "    # If 'q' is pressed, exit early\n",
    "    if key == ord('q'):\n",
    "        break"
   ]
  },
  {
   "cell_type": "markdown",
   "metadata": {},
   "source": [
    "### Step 6: Releasing Resources\n",
    "- **camera.release()** releases the webcam after we are done.\n",
    "- **cv2.destroyAllWindows()** closes all the OpenCV windows."
   ]
  },
  {
   "cell_type": "code",
   "execution_count": 9,
   "metadata": {},
   "outputs": [],
   "source": [
    "# Release the camera and close all windows\n",
    "camera.release()\n",
    "cv2.destroyAllWindows()"
   ]
  },
  {
   "cell_type": "markdown",
   "metadata": {},
   "source": [
    "### Introduction to Edge Detection\n",
    "- Edge detection is used to identify the boundaries within an image.\n",
    "- We are using the **Canny Edge Detection** technique provided by OpenCV.\n",
    "- **cv2.Canny()** function is used.\n",
    "  - **threshold1=100** and **threshold2=200** are two values used to control the edges detected. Replaceable values: **50, 150, 250**.\n",
    "\n",
    "### Impact of Changing Hyperparameters\n",
    "- **threshold1 and threshold2**: Changing these values controls the number of edges detected:\n",
    "  - Lower values (e.g., 50, 100) will detect more edges, including weaker edges.\n",
    "  - Higher values (e.g., 150, 250) will make edge detection more strict and capture fewer edges."
   ]
  },
  {
   "cell_type": "code",
   "execution_count": 16,
   "metadata": {},
   "outputs": [],
   "source": [
    "# Edge Detection\n",
    "edge_image = cv2.Canny(frame, 100, 200)\n",
    "\n",
    "# Display original vs edge detected image\n",
    "cv2.imshow(\"Original Image\", frame)\n",
    "cv2.imshow(\"Edge Detected Image\", edge_image)\n",
    "cv2.waitKey(0)\n",
    "cv2.destroyAllWindows()"
   ]
  },
  {
   "cell_type": "markdown",
   "metadata": {},
   "source": [
    "# Step 8: Image Sharpening"
   ]
  },
  {
   "cell_type": "code",
   "execution_count": null,
   "metadata": {},
   "outputs": [],
   "source": [
    "# Image Sharpening\n",
    "import numpy as np\n",
    "kernel = np.array([[0, -1, 0], [-1, 5, -1], [0, -1, 0]])\n",
    "sharpened_image = cv2.filter2D(frame, -1, kernel)\n",
    "\n",
    "# Display original vs sharpened image\n",
    "cv2.imshow(\"Original Image\", frame)\n",
    "cv2.imshow(\"Sharpened Image\", sharpened_image)\n",
    "cv2.waitKey(0)\n",
    "cv2.destroyAllWindows()"
   ]
  },
  {
   "cell_type": "code",
   "execution_count": 15,
   "metadata": {},
   "outputs": [],
   "source": [
    "# Image Sharpening\n",
    "import numpy as np\n",
    "kernel = np.array([[0, -1, 0], [-1, 5, -1], [0, -1, 0]])\n",
    "sharpened_image = cv2.filter2D(frame, -1, kernel)\n",
    "\n",
    "# Display original vs sharpened image\n",
    "cv2.imshow(\"Original Image\", frame)\n",
    "cv2.imshow(\"Sharpened Image\", sharpened_image)\n",
    "cv2.waitKey(0)\n",
    "cv2.destroyAllWindows()"
   ]
  },
  {
   "cell_type": "markdown",
   "metadata": {},
   "source": [
    "# Step 9: Blur Image\n",
    "### Introduction to Image Blurring\n",
    "- Image blurring is used to smooth an image or reduce noise.\n",
    "- **cv2.GaussianBlur()** is commonly used for blurring.\n",
    "- **ksize=(5, 5)** represents the size of the kernel. Replaceable values: **(3, 3), (7, 7), (9, 9)**."
   ]
  },
  {
   "cell_type": "code",
   "execution_count": 17,
   "metadata": {},
   "outputs": [],
   "source": [
    "# Blur Image\n",
    "blurred_image = cv2.GaussianBlur(frame, (5, 5), 0)\n",
    "\n",
    "# Display original vs blurred image\n",
    "cv2.imshow(\"Original Image\", frame)\n",
    "cv2.imshow(\"Blurred Image\", blurred_image)\n",
    "cv2.waitKey(0)\n",
    "cv2.destroyAllWindows()"
   ]
  },
  {
   "cell_type": "markdown",
   "metadata": {},
   "source": [
    "# Step 10: Image Resize\n",
    "### Introduction to Image Resizing\n",
    "- Resizing an image changes its dimensions (width and height).\n",
    "- **cv2.resize()** is used.\n",
    "- **fx=0.5** and **fy=0.5** represent scaling factors for width and height. Replaceable values: **0.3, 0.8, 1.5**."
   ]
  },
  {
   "cell_type": "code",
   "execution_count": 18,
   "metadata": {},
   "outputs": [],
   "source": [
    "# Image Resize\n",
    "resized_image = cv2.resize(frame, None, fx=0.5, fy=0.5)\n",
    "\n",
    "# Display original vs resized image\n",
    "cv2.imshow(\"Original Image\", frame)\n",
    "cv2.imshow(\"Resized Image\", resized_image)\n",
    "cv2.waitKey(0)\n",
    "cv2.destroyAllWindows()"
   ]
  },
  {
   "cell_type": "markdown",
   "metadata": {},
   "source": [
    "# Step 11: Image Rotation\n",
    "### Introduction to Image Rotation\n",
    "- Rotating an image changes its orientation by a specified angle.\n",
    "- **cv2.getRotationMatrix2D()** and **cv2.warpAffine()** are used.\n",
    "- **angle=45** specifies the angle of rotation. Replaceable values: **90, 180, 270**.\n",
    "\n",
    "### Impact of Changing Rotation Angle\n",
    "- **Rotation angle**: Changing the angle rotates the image differently:\n",
    "  - **90, 180, 270** are standard angles for rotating an image to different orientations.\n",
    "  - Non-standard angles like **45, 60** can create interesting visual effects."
   ]
  },
  {
   "cell_type": "code",
   "execution_count": 19,
   "metadata": {},
   "outputs": [],
   "source": [
    "# Image Rotation\n",
    "(h, w) = frame.shape[:2]\n",
    "center = (w // 2, h // 2)\n",
    "rotation_matrix = cv2.getRotationMatrix2D(center, 45, 1.0)\n",
    "rotated_image = cv2.warpAffine(frame, rotation_matrix, (w, h))\n",
    "\n",
    "# Display original vs rotated image\n",
    "cv2.imshow(\"Original Image\", frame)\n",
    "cv2.imshow(\"Rotated Image\", rotated_image)\n",
    "cv2.waitKey(0)\n",
    "cv2.destroyAllWindows()"
   ]
  },
  {
   "cell_type": "markdown",
   "metadata": {},
   "source": [
    "# Step 12: Image Augmentation\n",
    "### Introduction to Image Augmentation\n",
    "- Image augmentation involves making modifications to create variations of an image.\n",
    "- We will apply a combination of flip, rotation, and resize for augmentation."
   ]
  },
  {
   "cell_type": "code",
   "execution_count": 21,
   "metadata": {},
   "outputs": [],
   "source": [
    "# Image Augmentation\n",
    "flipped_image = cv2.flip(frame, 1)  # Horizontal flip\n",
    "(h, w) = flipped_image.shape[:2]\n",
    "rotation_matrix = cv2.getRotationMatrix2D((w // 2, h // 2), -30, 1.0)\n",
    "augmented_image = cv2.warpAffine(flipped_image, rotation_matrix, (w, h))\n",
    "resized_augmented = cv2.resize(augmented_image, (200, 200))\n",
    "\n",
    "# Display original vs augmented image\n",
    "cv2.imshow(\"Original Image\", frame)\n",
    "cv2.imshow(\"Augmented Image\", resized_augmented)\n",
    "cv2.waitKey(0)\n",
    "cv2.destroyAllWindows()"
   ]
  },
  {
   "cell_type": "markdown",
   "metadata": {},
   "source": [
    "# Step 13: Image Cropping\n",
    "### Introduction to Image Cropping\n",
    "- Cropping removes unwanted outer areas from an image.\n",
    "- We specify **x, y, width, height** to crop the image.\n",
    "- Replaceable values for coordinates can be adjusted based on the region you wish to crop."
   ]
  },
  {
   "cell_type": "code",
   "execution_count": 22,
   "metadata": {},
   "outputs": [],
   "source": [
    "# Image Cropping\n",
    "cropped_image = frame[50:200, 100:300]\n",
    "\n",
    "# Display original vs cropped image\n",
    "cv2.imshow(\"Original Image\", frame)\n",
    "cv2.imshow(\"Cropped Image\", cropped_image)\n",
    "cv2.waitKey(0)\n",
    "cv2.destroyAllWindows()"
   ]
  },
  {
   "cell_type": "markdown",
   "metadata": {},
   "source": [
    "# Step 14: Convert RGB to Black & White and Negative\n",
    "### Introduction to Color Conversions\n",
    "- Converting an image to black and white makes it easier to analyze.\n",
    "- **cv2.cvtColor()** is used with **cv2.COLOR_BGR2GRAY**.\n",
    "- To create a negative, we subtract pixel values from 255."
   ]
  },
  {
   "cell_type": "code",
   "execution_count": 23,
   "metadata": {},
   "outputs": [],
   "source": [
    "# Convert Image to Black & White\n",
    "bw_image = cv2.cvtColor(frame, cv2.COLOR_BGR2GRAY)\n",
    "\n",
    "# Create a Negative of the Image\n",
    "negative_image = 255 - frame\n",
    "\n",
    "# Display original vs black & white vs negative image\n",
    "cv2.imshow(\"Original Image\", frame)\n",
    "cv2.imshow(\"Black & White Image\", bw_image)\n",
    "cv2.imshow(\"Negative Image\", negative_image)\n",
    "cv2.waitKey(0)\n",
    "cv2.destroyAllWindows()"
   ]
  },
  {
   "cell_type": "markdown",
   "metadata": {},
   "source": [
    "# Step 15: Face Detection\n",
    "### Introduction to Face Detection\n",
    "- Detecting faces is crucial for applications like security or selfies.\n",
    "- We use **cv2.CascadeClassifier()** and **detectMultiScale()**.\n",
    "- Parameters like **scaleFactor** and **minNeighbors** can be adjusted for accuracy.\n",
    "\n",
    "### Impact of Changing Detection Parameters\n",
    "- **scaleFactor**: Determines the image reduction size at each scale:\n",
    "  - Smaller values (e.g., **1.05**) mean more accuracy but more computation.\n",
    "  - Larger values (e.g., **1.3**) are faster but might miss some faces.\n",
    "- **minNeighbors**: Sets how many neighbors each rectangle should have to retain it:\n",
    "  - Lower values (e.g., **3, 4**) mean more false positives (more detections).\n",
    "  - Higher values (e.g., **6, 7**) mean fewer detections but with higher quality."
   ]
  },
  {
   "cell_type": "code",
   "execution_count": 24,
   "metadata": {},
   "outputs": [],
   "source": [
    "# Face Detection\n",
    "faces = face_cascade.detectMultiScale(gray_frame, scaleFactor=1.1, minNeighbors=5, minSize=(30, 30))\n",
    "for (x, y, w, h) in faces:\n",
    "    cv2.rectangle(frame, (x, y), (x+w, y+h), (255, 0, 0), 2)\n",
    "\n",
    "# Display original vs face detected image\n",
    "cv2.imshow(\"Original Image\", gray_frame)\n",
    "cv2.imshow(\"Face Detected Image\", frame)\n",
    "cv2.waitKey(0)\n",
    "cv2.destroyAllWindows()"
   ]
  },
  {
   "cell_type": "markdown",
   "metadata": {},
   "source": [
    "# Step 16: Identifying Facial Features\n",
    "### Introduction to Identifying Facial Features\n",
    "- Facial features include the eyes, nose, and mouth.\n",
    "- We use **haar cascades** for detecting these features.\n",
    "\n",
    "### Impact of Changing Detection Parameters\n",
    "- **scaleFactor and minNeighbors**: These work similarly as in face detection, controlling accuracy and computational load:\n",
    "  - Lower **scaleFactor** increases detection accuracy but is computationally expensive.\n",
    "  - Adjusting **minNeighbors** impacts how strict the feature detection is."
   ]
  },
  {
   "cell_type": "code",
   "execution_count": 25,
   "metadata": {},
   "outputs": [],
   "source": [
    "# Identifying Facial Features\n",
    "eye_cascade = cv2.CascadeClassifier(cv2.data.haarcascades + 'haarcascade_eye.xml')\n",
    "eyes = eye_cascade.detectMultiScale(gray_frame, 1.1, 10)\n",
    "for (ex, ey, ew, eh) in eyes:\n",
    "    cv2.rectangle(frame, (ex, ey), (ex+ew, ey+eh), (0, 255, 0), 2)\n",
    "\n",
    "# Display original vs eyes detected image\n",
    "cv2.imshow(\"Original Image\", gray_frame)\n",
    "cv2.imshow(\"Eyes Detected Image\", frame)\n",
    "cv2.waitKey(0)\n",
    "cv2.destroyAllWindows()"
   ]
  }
 ],
 "metadata": {
  "kernelspec": {
   "display_name": "Python 3",
   "language": "python",
   "name": "python3"
  },
  "language_info": {
   "codemirror_mode": {
    "name": "ipython",
    "version": 3
   },
   "file_extension": ".py",
   "mimetype": "text/x-python",
   "name": "python",
   "nbconvert_exporter": "python",
   "pygments_lexer": "ipython3",
   "version": "3.12.5"
  }
 },
 "nbformat": 4,
 "nbformat_minor": 2
}
